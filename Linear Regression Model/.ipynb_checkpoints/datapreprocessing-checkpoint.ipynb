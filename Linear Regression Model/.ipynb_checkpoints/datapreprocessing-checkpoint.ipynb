{
 "cells": [
  {
   "cell_type": "code",
   "execution_count": null,
   "id": "01c45978-d618-4a5a-9fd5-103755fbde34",
   "metadata": {},
   "outputs": [],
   "source": [
    "import pandas as pd\n",
    "import numpy as np\n",
    "import matplotlib.pyplot as plt"
   ]
  },
  {
   "cell_type": "code",
   "execution_count": null,
   "id": "076c5901-39ac-4bee-b044-19a82cd387e1",
   "metadata": {},
   "outputs": [],
   "source": [
    "df=pd.read_csv('weight-height.csv')"
   ]
  },
  {
   "cell_type": "code",
   "execution_count": null,
   "id": "f668b052-d81a-4058-ab36-98b242a20871",
   "metadata": {},
   "outputs": [],
   "source": [
    "df.head(10)"
   ]
  },
  {
   "cell_type": "code",
   "execution_count": null,
   "id": "61017da4-faad-423e-9b00-b5a859672ed2",
   "metadata": {},
   "outputs": [],
   "source": [
    "Q1=df.Weight.quantile(0.25)\n",
    "Q3=df.Weight.quantile(0.75)\n",
    "IQR=(Q3-Q1)"
   ]
  },
  {
   "cell_type": "raw",
   "id": "ac3a25e2-5c04-4211-858e-afd5abb36e9c",
   "metadata": {},
   "source": [
    "Finding lower bound and upper bound"
   ]
  },
  {
   "cell_type": "code",
   "execution_count": null,
   "id": "772b35e9-0020-44a6-bd17-50edc469ee0e",
   "metadata": {},
   "outputs": [],
   "source": [
    "lower_bound=(Q1-1.5*IQR)\n",
    "upper_bound=(Q3+1.5*IQR)"
   ]
  },
  {
   "cell_type": "code",
   "execution_count": null,
   "id": "f035c160-61e1-472b-9f51-41b317dae134",
   "metadata": {},
   "outputs": [],
   "source": [
    "outliers=df[(df['Weight']<lower_bound) | (df['Weight']>upper_bound)]\n",
    "outliers"
   ]
  },
  {
   "cell_type": "code",
   "execution_count": null,
   "id": "0e70c5c8-6d34-46a2-b54b-bda0c5fd6e2a",
   "metadata": {},
   "outputs": [],
   "source": [
    "outliers_fixed=df[(df['Weight']>lower_bound) & (df['Weight']<upper_bound)]\n",
    "outliers_fixed"
   ]
  },
  {
   "cell_type": "code",
   "execution_count": null,
   "id": "21d49e9b-0e29-47b2-8fdf-fcb51e20ec11",
   "metadata": {},
   "outputs": [],
   "source": [
    "Q1H=df.Height.quantile(0.25)\n",
    "Q3H=df.Height.quantile(0.75)\n",
    "IQRH=(Q3H-Q1H)"
   ]
  },
  {
   "cell_type": "code",
   "execution_count": null,
   "id": "075642ce-3c6a-483d-9128-17a1aa3602fe",
   "metadata": {},
   "outputs": [],
   "source": [
    "lower_height=Q1H-1.5*IQRH\n",
    "upper_height=Q3H-1.5*IQRH"
   ]
  },
  {
   "cell_type": "code",
   "execution_count": null,
   "id": "60854996-3e53-4292-b117-db0282b31255",
   "metadata": {},
   "outputs": [],
   "source": [
    "outliers_height=df[(df['Height']<lower_height) | (df['Height']>upper_height)]\n",
    "outliers_height"
   ]
  },
  {
   "cell_type": "code",
   "execution_count": null,
   "id": "caaebcbe-a4ef-4b9a-9b2d-021d2c7b57e0",
   "metadata": {},
   "outputs": [],
   "source": [
    "outliers_fixed=df[(df['Height']>lower_height) & (df['Height']<upper_height)]\n",
    "outliers_fixed"
   ]
  },
  {
   "cell_type": "code",
   "execution_count": null,
   "id": "ef52d46f-ecd3-4d24-bed4-23491e7fd383",
   "metadata": {},
   "outputs": [],
   "source": [
    "height_mean = df['Height'].mean()\n",
    "outliers_fixed['mean'] = height_mean\n"
   ]
  },
  {
   "cell_type": "code",
   "execution_count": null,
   "id": "b8047c17-7e7c-4b8c-8b7c-e4855404773f",
   "metadata": {},
   "outputs": [],
   "source": []
  }
 ],
 "metadata": {
  "kernelspec": {
   "display_name": "Python 3 (ipykernel)",
   "language": "python",
   "name": "python3"
  },
  "language_info": {
   "codemirror_mode": {
    "name": "ipython",
    "version": 3
   },
   "file_extension": ".py",
   "mimetype": "text/x-python",
   "name": "python",
   "nbconvert_exporter": "python",
   "pygments_lexer": "ipython3",
   "version": "3.11.2"
  }
 },
 "nbformat": 4,
 "nbformat_minor": 5
}
