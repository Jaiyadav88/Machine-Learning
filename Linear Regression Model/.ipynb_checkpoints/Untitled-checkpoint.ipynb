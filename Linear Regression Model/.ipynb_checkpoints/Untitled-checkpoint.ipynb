{
 "cells": [
  {
   "cell_type": "code",
   "execution_count": null,
   "id": "e914c690",
   "metadata": {},
   "outputs": [
    {
     "name": "stdout",
     "output_type": "stream",
     "text": [
      "1.To add element in list\n",
      "2.To modify an element\n",
      "3.To remove an element\n",
      "4.To display elements\n",
      "Any other number to exit\n"
     ]
    },
    {
     "name": "stdin",
     "output_type": "stream",
     "text": [
      "Enter your choice: 1\n",
      "Enter the value to be inserted: 10\n"
     ]
    },
    {
     "name": "stdout",
     "output_type": "stream",
     "text": [
      "\n",
      "\n",
      "1.To add element in list\n",
      "2.To modify an element\n",
      "3.To remove an element\n",
      "4.To display elements\n",
      "Any other number to exit\n"
     ]
    },
    {
     "name": "stdin",
     "output_type": "stream",
     "text": [
      "Enter your choice: 1\n",
      "Enter the value to be inserted: 10\n"
     ]
    },
    {
     "name": "stdout",
     "output_type": "stream",
     "text": [
      "\n",
      "\n",
      "1.To add element in list\n",
      "2.To modify an element\n",
      "3.To remove an element\n",
      "4.To display elements\n",
      "Any other number to exit\n"
     ]
    },
    {
     "name": "stdin",
     "output_type": "stream",
     "text": [
      "Enter your choice: 1\n",
      "Enter the value to be inserted: 30\n"
     ]
    },
    {
     "name": "stdout",
     "output_type": "stream",
     "text": [
      "\n",
      "\n",
      "1.To add element in list\n",
      "2.To modify an element\n",
      "3.To remove an element\n",
      "4.To display elements\n",
      "Any other number to exit\n"
     ]
    },
    {
     "name": "stdin",
     "output_type": "stream",
     "text": [
      "Enter your choice: 2\n",
      "Enter the index to be modified 1\n",
      "Enter the new value 20\n"
     ]
    },
    {
     "name": "stdout",
     "output_type": "stream",
     "text": [
      "\n",
      "\n",
      "1.To add element in list\n",
      "2.To modify an element\n",
      "3.To remove an element\n",
      "4.To display elements\n",
      "Any other number to exit\n"
     ]
    },
    {
     "name": "stdin",
     "output_type": "stream",
     "text": [
      "Enter your choice: 4\n"
     ]
    },
    {
     "name": "stdout",
     "output_type": "stream",
     "text": [
      "\n",
      "\n",
      "10 20 30 \n",
      "\n",
      "1.To add element in list\n",
      "2.To modify an element\n",
      "3.To remove an element\n",
      "4.To display elements\n",
      "Any other number to exit\n"
     ]
    },
    {
     "name": "stdin",
     "output_type": "stream",
     "text": [
      "Enter your choice: 3\n",
      "Enter the element to remove 30\n"
     ]
    },
    {
     "name": "stdout",
     "output_type": "stream",
     "text": [
      "\n",
      "\n",
      "1.To add element in list\n",
      "2.To modify an element\n",
      "3.To remove an element\n",
      "4.To display elements\n",
      "Any other number to exit\n"
     ]
    },
    {
     "name": "stdin",
     "output_type": "stream",
     "text": [
      "Enter your choice: 4\n"
     ]
    },
    {
     "name": "stdout",
     "output_type": "stream",
     "text": [
      "\n",
      "\n",
      "10 20 \n",
      "\n",
      "1.To add element in list\n",
      "2.To modify an element\n",
      "3.To remove an element\n",
      "4.To display elements\n",
      "Any other number to exit\n"
     ]
    }
   ],
   "source": [
    "dict={}\n",
    "while(True):\n",
    "    print('1.To add element in dictionary')\n",
    "    print('2.To modify an element')\n",
    "    print('3.To remove an element')\n",
    "    print('4.To display elements')\n",
    "    print('Any other number to exit')\n",
    "    ch=int(input('Enter your choice:'))\n",
    "    if ch==1:\n",
    "        key=input('Enter the key to insert:')\n",
    "        value=input('Enter the value to be inserted:')\n",
    "        add(key,value,dict)\n",
    "        print('\\n')\n",
    "    elif ch==2:\n",
    "        key=input('Enter the key')\n",
    "        value=input('Enter the value')\n",
    "        modify(key,value,dict)\n",
    "        print('\\n')\n",
    "    elif ch==3:\n",
    "        key=input('Enter the key-value pair to remove')\n",
    "        remove(key,dict)\n",
    "        print('\\n')\n",
    "    elif ch==4:\n",
    "        print('\\n')\n",
    "        display(dict)\n",
    "        print('\\n')\n",
    "    else:\n",
    "        print('You have exited the program')\n",
    "        break;"
   ]
  },
  {
   "cell_type": "code",
   "execution_count": 12,
   "id": "53137fd3-005f-480b-8ed5-0c35e3b8757b",
   "metadata": {},
   "outputs": [],
   "source": [
    "#function to add element in the list\n",
    "def add(val,list):\n",
    "    list.append(val)"
   ]
  },
  {
   "cell_type": "code",
   "execution_count": 13,
   "id": "ba7e8e89-0e34-41a9-aec0-1ec7bb4e43fd",
   "metadata": {},
   "outputs": [],
   "source": [
    "#function to modify an element in list\n",
    "def modify(index,val,list):\n",
    "    list[index]=val"
   ]
  },
  {
   "cell_type": "code",
   "execution_count": 14,
   "id": "cbc79828-3c0a-47af-bccc-106942197d68",
   "metadata": {},
   "outputs": [],
   "source": [
    "# function to remove a element from a list\n",
    "def remove(ele,list):\n",
    "    list.remove(ele)  "
   ]
  },
  {
   "cell_type": "code",
   "execution_count": 17,
   "id": "0bb18949-533e-4919-bbf6-c75edca507fa",
   "metadata": {},
   "outputs": [],
   "source": [
    "# Function to display the List\n",
    "def display(list):\n",
    "    for i in list:\n",
    "        print(i,end=\" \")"
   ]
  },
  {
   "cell_type": "code",
   "execution_count": null,
   "id": "3479d0a4-1be7-41dd-952c-3472df01d198",
   "metadata": {},
   "outputs": [],
   "source": []
  }
 ],
 "metadata": {
  "kernelspec": {
   "display_name": "Python 3 (ipykernel)",
   "language": "python",
   "name": "python3"
  },
  "language_info": {
   "codemirror_mode": {
    "name": "ipython",
    "version": 3
   },
   "file_extension": ".py",
   "mimetype": "text/x-python",
   "name": "python",
   "nbconvert_exporter": "python",
   "pygments_lexer": "ipython3",
   "version": "3.11.2"
  }
 },
 "nbformat": 4,
 "nbformat_minor": 5
}
