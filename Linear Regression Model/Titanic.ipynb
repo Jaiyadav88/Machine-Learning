{
 "cells": [
  {
   "cell_type": "code",
   "execution_count": 8,
   "id": "8446c921-5569-4c39-9d18-bf7bafe338ef",
   "metadata": {},
   "outputs": [],
   "source": [
    "import matplotlib.pyplot as plt\n",
    "student={\n",
    "   'Name':['aaa','bbb','ccc'],\n",
    "   'Roll No.':[1,2,3],\n",
    "    'Python Marks':[43,45,28]\n",
    "}#creating a dictionary"
   ]
  },
  {
   "cell_type": "code",
   "execution_count": 2,
   "id": "23f9f203-c654-4df4-9215-d8874cd0b03f",
   "metadata": {},
   "outputs": [],
   "source": [
    "import pandas as pd"
   ]
  },
  {
   "cell_type": "code",
   "execution_count": 3,
   "id": "80ac01c2-134f-40a9-951e-ac2e1afa9668",
   "metadata": {},
   "outputs": [],
   "source": [
    "df_std=pd.DataFrame(student)\n",
    "#converting dictionary into data frame"
   ]
  },
  {
   "cell_type": "code",
   "execution_count": 4,
   "id": "fccf44c1-a294-42fc-bf27-34680456a73a",
   "metadata": {},
   "outputs": [
    {
     "data": {
      "text/html": [
       "<div>\n",
       "<style scoped>\n",
       "    .dataframe tbody tr th:only-of-type {\n",
       "        vertical-align: middle;\n",
       "    }\n",
       "\n",
       "    .dataframe tbody tr th {\n",
       "        vertical-align: top;\n",
       "    }\n",
       "\n",
       "    .dataframe thead th {\n",
       "        text-align: right;\n",
       "    }\n",
       "</style>\n",
       "<table border=\"1\" class=\"dataframe\">\n",
       "  <thead>\n",
       "    <tr style=\"text-align: right;\">\n",
       "      <th></th>\n",
       "      <th>Name</th>\n",
       "      <th>Roll No.</th>\n",
       "      <th>Python Marks</th>\n",
       "    </tr>\n",
       "  </thead>\n",
       "  <tbody>\n",
       "    <tr>\n",
       "      <th>0</th>\n",
       "      <td>aaa</td>\n",
       "      <td>1</td>\n",
       "      <td>43</td>\n",
       "    </tr>\n",
       "    <tr>\n",
       "      <th>1</th>\n",
       "      <td>bbb</td>\n",
       "      <td>2</td>\n",
       "      <td>45</td>\n",
       "    </tr>\n",
       "    <tr>\n",
       "      <th>2</th>\n",
       "      <td>ccc</td>\n",
       "      <td>3</td>\n",
       "      <td>28</td>\n",
       "    </tr>\n",
       "  </tbody>\n",
       "</table>\n",
       "</div>"
      ],
      "text/plain": [
       "  Name  Roll No.  Python Marks\n",
       "0  aaa         1            43\n",
       "1  bbb         2            45\n",
       "2  ccc         3            28"
      ]
     },
     "execution_count": 4,
     "metadata": {},
     "output_type": "execute_result"
    }
   ],
   "source": [
    "df_std"
   ]
  },
  {
   "cell_type": "markdown",
   "id": "0c20f993-883f-4523-9fcc-f3513c979696",
   "metadata": {},
   "source": [
    "## Load Dataset"
   ]
  },
  {
   "cell_type": "code",
   "execution_count": 17,
   "id": "a29cf06d-f30c-4f21-9b41-2ea77b4f715f",
   "metadata": {},
   "outputs": [
    {
     "data": {
      "text/html": [
       "<div>\n",
       "<style scoped>\n",
       "    .dataframe tbody tr th:only-of-type {\n",
       "        vertical-align: middle;\n",
       "    }\n",
       "\n",
       "    .dataframe tbody tr th {\n",
       "        vertical-align: top;\n",
       "    }\n",
       "\n",
       "    .dataframe thead th {\n",
       "        text-align: right;\n",
       "    }\n",
       "</style>\n",
       "<table border=\"1\" class=\"dataframe\">\n",
       "  <thead>\n",
       "    <tr style=\"text-align: right;\">\n",
       "      <th></th>\n",
       "      <th>PassengerId</th>\n",
       "      <th>Survived</th>\n",
       "      <th>Pclass</th>\n",
       "      <th>Name</th>\n",
       "      <th>Gender</th>\n",
       "      <th>Age</th>\n",
       "      <th>SibSp</th>\n",
       "      <th>Parch</th>\n",
       "      <th>Ticket</th>\n",
       "      <th>Fare</th>\n",
       "      <th>Cabin</th>\n",
       "      <th>Embarked</th>\n",
       "    </tr>\n",
       "  </thead>\n",
       "  <tbody>\n",
       "    <tr>\n",
       "      <th>0</th>\n",
       "      <td>1</td>\n",
       "      <td>0</td>\n",
       "      <td>3</td>\n",
       "      <td>Braund, Mr. Owen Harris</td>\n",
       "      <td>male</td>\n",
       "      <td>22.0</td>\n",
       "      <td>1</td>\n",
       "      <td>0</td>\n",
       "      <td>A/5 21171</td>\n",
       "      <td>7.2500</td>\n",
       "      <td>NaN</td>\n",
       "      <td>S</td>\n",
       "    </tr>\n",
       "    <tr>\n",
       "      <th>1</th>\n",
       "      <td>2</td>\n",
       "      <td>1</td>\n",
       "      <td>1</td>\n",
       "      <td>Cumings, Mrs. John Bradley (Florence Briggs Th...</td>\n",
       "      <td>female</td>\n",
       "      <td>38.0</td>\n",
       "      <td>1</td>\n",
       "      <td>0</td>\n",
       "      <td>PC 17599</td>\n",
       "      <td>71.2833</td>\n",
       "      <td>C85</td>\n",
       "      <td>C</td>\n",
       "    </tr>\n",
       "    <tr>\n",
       "      <th>2</th>\n",
       "      <td>3</td>\n",
       "      <td>1</td>\n",
       "      <td>3</td>\n",
       "      <td>Heikkinen, Miss. Laina</td>\n",
       "      <td>female</td>\n",
       "      <td>26.0</td>\n",
       "      <td>0</td>\n",
       "      <td>0</td>\n",
       "      <td>STON/O2. 3101282</td>\n",
       "      <td>7.9250</td>\n",
       "      <td>NaN</td>\n",
       "      <td>S</td>\n",
       "    </tr>\n",
       "    <tr>\n",
       "      <th>3</th>\n",
       "      <td>4</td>\n",
       "      <td>1</td>\n",
       "      <td>1</td>\n",
       "      <td>Futrelle, Mrs. Jacques Heath (Lily May Peel)</td>\n",
       "      <td>female</td>\n",
       "      <td>35.0</td>\n",
       "      <td>1</td>\n",
       "      <td>0</td>\n",
       "      <td>113803</td>\n",
       "      <td>53.1000</td>\n",
       "      <td>C123</td>\n",
       "      <td>S</td>\n",
       "    </tr>\n",
       "    <tr>\n",
       "      <th>4</th>\n",
       "      <td>5</td>\n",
       "      <td>0</td>\n",
       "      <td>3</td>\n",
       "      <td>Allen, Mr. William Henry</td>\n",
       "      <td>male</td>\n",
       "      <td>35.0</td>\n",
       "      <td>0</td>\n",
       "      <td>0</td>\n",
       "      <td>373450</td>\n",
       "      <td>8.0500</td>\n",
       "      <td>NaN</td>\n",
       "      <td>S</td>\n",
       "    </tr>\n",
       "    <tr>\n",
       "      <th>...</th>\n",
       "      <td>...</td>\n",
       "      <td>...</td>\n",
       "      <td>...</td>\n",
       "      <td>...</td>\n",
       "      <td>...</td>\n",
       "      <td>...</td>\n",
       "      <td>...</td>\n",
       "      <td>...</td>\n",
       "      <td>...</td>\n",
       "      <td>...</td>\n",
       "      <td>...</td>\n",
       "      <td>...</td>\n",
       "    </tr>\n",
       "    <tr>\n",
       "      <th>886</th>\n",
       "      <td>887</td>\n",
       "      <td>0</td>\n",
       "      <td>2</td>\n",
       "      <td>Montvila, Rev. Juozas</td>\n",
       "      <td>male</td>\n",
       "      <td>27.0</td>\n",
       "      <td>0</td>\n",
       "      <td>0</td>\n",
       "      <td>211536</td>\n",
       "      <td>13.0000</td>\n",
       "      <td>NaN</td>\n",
       "      <td>S</td>\n",
       "    </tr>\n",
       "    <tr>\n",
       "      <th>887</th>\n",
       "      <td>888</td>\n",
       "      <td>1</td>\n",
       "      <td>1</td>\n",
       "      <td>Graham, Miss. Margaret Edith</td>\n",
       "      <td>female</td>\n",
       "      <td>19.0</td>\n",
       "      <td>0</td>\n",
       "      <td>0</td>\n",
       "      <td>112053</td>\n",
       "      <td>30.0000</td>\n",
       "      <td>B42</td>\n",
       "      <td>S</td>\n",
       "    </tr>\n",
       "    <tr>\n",
       "      <th>888</th>\n",
       "      <td>889</td>\n",
       "      <td>0</td>\n",
       "      <td>3</td>\n",
       "      <td>Johnston, Miss. Catherine Helen \"Carrie\"</td>\n",
       "      <td>female</td>\n",
       "      <td>NaN</td>\n",
       "      <td>1</td>\n",
       "      <td>2</td>\n",
       "      <td>W./C. 6607</td>\n",
       "      <td>23.4500</td>\n",
       "      <td>NaN</td>\n",
       "      <td>S</td>\n",
       "    </tr>\n",
       "    <tr>\n",
       "      <th>889</th>\n",
       "      <td>890</td>\n",
       "      <td>1</td>\n",
       "      <td>1</td>\n",
       "      <td>Behr, Mr. Karl Howell</td>\n",
       "      <td>male</td>\n",
       "      <td>26.0</td>\n",
       "      <td>0</td>\n",
       "      <td>0</td>\n",
       "      <td>111369</td>\n",
       "      <td>30.0000</td>\n",
       "      <td>C148</td>\n",
       "      <td>C</td>\n",
       "    </tr>\n",
       "    <tr>\n",
       "      <th>890</th>\n",
       "      <td>891</td>\n",
       "      <td>0</td>\n",
       "      <td>3</td>\n",
       "      <td>Dooley, Mr. Patrick</td>\n",
       "      <td>male</td>\n",
       "      <td>32.0</td>\n",
       "      <td>0</td>\n",
       "      <td>0</td>\n",
       "      <td>370376</td>\n",
       "      <td>7.7500</td>\n",
       "      <td>NaN</td>\n",
       "      <td>Q</td>\n",
       "    </tr>\n",
       "  </tbody>\n",
       "</table>\n",
       "<p>891 rows × 12 columns</p>\n",
       "</div>"
      ],
      "text/plain": [
       "     PassengerId  Survived  Pclass  \\\n",
       "0              1         0       3   \n",
       "1              2         1       1   \n",
       "2              3         1       3   \n",
       "3              4         1       1   \n",
       "4              5         0       3   \n",
       "..           ...       ...     ...   \n",
       "886          887         0       2   \n",
       "887          888         1       1   \n",
       "888          889         0       3   \n",
       "889          890         1       1   \n",
       "890          891         0       3   \n",
       "\n",
       "                                                  Name  Gender   Age  SibSp  \\\n",
       "0                              Braund, Mr. Owen Harris    male  22.0      1   \n",
       "1    Cumings, Mrs. John Bradley (Florence Briggs Th...  female  38.0      1   \n",
       "2                               Heikkinen, Miss. Laina  female  26.0      0   \n",
       "3         Futrelle, Mrs. Jacques Heath (Lily May Peel)  female  35.0      1   \n",
       "4                             Allen, Mr. William Henry    male  35.0      0   \n",
       "..                                                 ...     ...   ...    ...   \n",
       "886                              Montvila, Rev. Juozas    male  27.0      0   \n",
       "887                       Graham, Miss. Margaret Edith  female  19.0      0   \n",
       "888           Johnston, Miss. Catherine Helen \"Carrie\"  female   NaN      1   \n",
       "889                              Behr, Mr. Karl Howell    male  26.0      0   \n",
       "890                                Dooley, Mr. Patrick    male  32.0      0   \n",
       "\n",
       "     Parch            Ticket     Fare Cabin Embarked  \n",
       "0        0         A/5 21171   7.2500   NaN        S  \n",
       "1        0          PC 17599  71.2833   C85        C  \n",
       "2        0  STON/O2. 3101282   7.9250   NaN        S  \n",
       "3        0            113803  53.1000  C123        S  \n",
       "4        0            373450   8.0500   NaN        S  \n",
       "..     ...               ...      ...   ...      ...  \n",
       "886      0            211536  13.0000   NaN        S  \n",
       "887      0            112053  30.0000   B42        S  \n",
       "888      2        W./C. 6607  23.4500   NaN        S  \n",
       "889      0            111369  30.0000  C148        C  \n",
       "890      0            370376   7.7500   NaN        Q  \n",
       "\n",
       "[891 rows x 12 columns]"
      ]
     },
     "execution_count": 17,
     "metadata": {},
     "output_type": "execute_result"
    }
   ],
   "source": [
    "df=pd.read_csv('../Dataset/titanic.csv')\n",
    "df"
   ]
  },
  {
   "cell_type": "code",
   "execution_count": 28,
   "id": "d0486b83-a32e-46c7-b745-f93bafb49f88",
   "metadata": {},
   "outputs": [
    {
     "data": {
      "image/png": "[encoded data removed]",
      "text/plain": [
       "<Figure size 640x480 with 1 Axes>"
      ]
     },
     "metadata": {},
     "output_type": "display_data"
    }
   ],
   "source": [
    "age=df['Age']\n",
    "pclass=df['Pclass']\n",
    "plt.bar(age,pclass,width=1)\n",
    "plt.show()"
   ]
  },
  {
   "cell_type": "code",
   "execution_count": null,
   "id": "c0e61c14-ac8d-4a91-9001-15eb67dbd9b0",
   "metadata": {},
   "outputs": [],
   "source": [
    "df.columns\n",
    "#to display the column name"
   ]
  },
  {
   "cell_type": "code",
   "execution_count": null,
   "id": "602e6534-b287-4faf-959a-b5d20505dc53",
   "metadata": {},
   "outputs": [],
   "source": [
    "df.index"
   ]
  },
  {
   "cell_type": "markdown",
   "id": "30cbe55c-40da-46a0-868a-4bdc815ec2d7",
   "metadata": {},
   "source": [
    "## Read Operations"
   ]
  },
  {
   "cell_type": "code",
   "execution_count": null,
   "id": "c2e82665-a08a-4fcb-bff3-163aca4e172c",
   "metadata": {},
   "outputs": [],
   "source": [
    "df.head(10)"
   ]
  },
  {
   "cell_type": "code",
   "execution_count": null,
   "id": "aa394cc9-13b7-4290-b549-5d553473612b",
   "metadata": {},
   "outputs": [],
   "source": [
    "df.tail(10)"
   ]
  },
  {
   "cell_type": "code",
   "execution_count": null,
   "id": "24e757a9-b29a-407b-9c82-c7e49436e224",
   "metadata": {},
   "outputs": [],
   "source": [
    "#to read the values of the passesngers whose age is more than or equal to 50\n",
    "df[(df['Age'] >=50) & (df['Gender']=='male')]"
   ]
  },
  {
   "cell_type": "code",
   "execution_count": null,
   "id": "f464de6b-5ca7-4145-8998-cac60b47a475",
   "metadata": {},
   "outputs": [],
   "source": [
    "df.describe()"
   ]
  },
  {
   "cell_type": "code",
   "execution_count": null,
   "id": "f3f98213-2114-4fa4-97aa-cb7ecd75ee67",
   "metadata": {},
   "outputs": [],
   "source": [
    "#to count the the samples of a particular class\n",
    "df['Pclass'].value_counts()"
   ]
  },
  {
   "cell_type": "markdown",
   "id": "bb6ef016-5b1b-4506-ac2f-eed87decc143",
   "metadata": {},
   "source": [
    "## Handling Missing Values"
   ]
  },
  {
   "cell_type": "code",
   "execution_count": null,
   "id": "9979f19f-dce6-4489-97a2-b7a3481bbe1f",
   "metadata": {},
   "outputs": [],
   "source": [
    "missing=df.isnull().sum()\n",
    "missing\n",
    "#missing values in a particular column"
   ]
  },
  {
   "cell_type": "code",
   "execution_count": null,
   "id": "6c24284d-b3c8-445a-a9ef-c837abd5ae34",
   "metadata": {},
   "outputs": [],
   "source": [
    "#to fill the NaN values in age column\n",
    "df['Age'].fillna(df['Age'].mean(),inplace=True)"
   ]
  },
  {
   "cell_type": "code",
   "execution_count": null,
   "id": "d483f8c4-f829-49b6-8ac0-e45e80b05e81",
   "metadata": {},
   "outputs": [],
   "source": [
    "df['Age']"
   ]
  },
  {
   "cell_type": "code",
   "execution_count": null,
   "id": "c3541e63-15ea-453c-8276-42088dcc6465",
   "metadata": {},
   "outputs": [],
   "source": [
    "df['Cabin'].fillna(df['Cabin'].mode()[0],inplace=True)\n",
    "df['Cabin']"
   ]
  },
  {
   "cell_type": "markdown",
   "id": "c1590a31-5d77-4fca-a99e-ac032f516eaa",
   "metadata": {},
   "source": [
    "## Modify/ADD columns"
   ]
  },
  {
   "cell_type": "code",
   "execution_count": null,
   "id": "1acbe7a4-f13f-4a6f-a80d-be02d0b1368a",
   "metadata": {},
   "outputs": [],
   "source": [
    "df['Gender'].head()"
   ]
  },
  {
   "cell_type": "code",
   "execution_count": null,
   "id": "b916afe9-cfc6-4200-b168-c8f59ce56a2e",
   "metadata": {},
   "outputs": [],
   "source": [
    "df['Gender']=df['Gender'].map({'male':1,'female':0})\n",
    "df\n",
    "#to change values to integer 0 and 1"
   ]
  },
  {
   "cell_type": "markdown",
   "id": "12b4fcd5-065b-465b-b323-bc441f50707f",
   "metadata": {},
   "source": [
    "## ADD NEW COLUMN"
   ]
  },
  {
   "cell_type": "code",
   "execution_count": null,
   "id": "e0a82acc-0637-4eaa-a751-ca9e0004740c",
   "metadata": {},
   "outputs": [],
   "source": [
    "def findagegroup(x):\n",
    "    if x <=18:\n",
    "        return 1\n",
    "    elif x>=19 and x< 40:\n",
    "        return 2\n",
    "    elif x>=41 and x<60:\n",
    "        return 3\n",
    "    else:\n",
    "        return 4\n",
    "df['Age_Group']=df['Age'].apply(lambda x:findagegroup(x))"
   ]
  },
  {
   "cell_type": "code",
   "execution_count": null,
   "id": "249817e3-9d8b-4d3f-be43-80bd9f4d4f8a",
   "metadata": {},
   "outputs": [],
   "source": [
    "df[df['Age']>=60]"
   ]
  },
  {
   "cell_type": "code",
   "execution_count": null,
   "id": "34e4ed51-28e0-4219-8bd2-b84c7f9ddd39",
   "metadata": {},
   "outputs": [],
   "source": [
    "#create a dataframe using a dictionary,the dictionary key values are as follows:\n",
    "#Name: Jai,John,Carl,Mathew,Alex\n",
    "#Roll no:1,2,3,4,5\n",
    "#Physics Marks: 78,65,'NaN',93,90\n",
    "#Chemistry Marks:56,76,87,96\n",
    "#Gender: M,M,F,F\n",
    "\n",
    "#fill the missing values of physics marks by applying mean method\n",
    "#fill the missing values of chem marks by applying median method\n",
    "#fill the missing values of  Gender by mode\n",
    "#Calculate the % of phy marks ,create a new column average of phy and chem marks"
   ]
  },
  {
   "cell_type": "code",
   "execution_count": null,
   "id": "b60a3526-898b-40fe-91ad-f4b2d728aac3",
   "metadata": {},
   "outputs": [],
   "source": [
    "marks={\n",
    "    'Name':['Jai','John','Carl','Mathew','Alex'],\n",
    "    ' Roll no.':[1,2,3,4,5],\n",
    "    'PhysicsMarks':[78,65,'NaN',93,90],\n",
    "    'ChemistryMarks':[56,76,87,96,'NaA'],\n",
    "    'Gender':['M','M','F','F','NaN']\n",
    "}"
   ]
  },
  {
   "cell_type": "code",
   "execution_count": null,
   "id": "5c2c0391-3dbb-4c90-a212-dbae5c265d4c",
   "metadata": {},
   "outputs": [],
   "source": [
    "data=pd.DataFrame(marks)\n",
    "data"
   ]
  },
  {
   "cell_type": "code",
   "execution_count": null,
   "id": "87d71024-c96d-404e-86b6-bfa93085abb2",
   "metadata": {},
   "outputs": [],
   "source": [
    "#filling missing values of physics marks\n",
    "if df['PhysicsMarks'].isnull().any():\n",
    "    df['PhysicsMarks'].fillna(df['PhysicsMarks'].mean(), inplace=True)"
   ]
  },
  {
   "cell_type": "code",
   "execution_count": null,
   "id": "2e3d3fce-feaf-4600-9ec3-01adda5fdf6e",
   "metadata": {},
   "outputs": [],
   "source": []
  },
  {
   "cell_type": "code",
   "execution_count": null,
   "id": "101a85d0-e7ba-4f4f-aa02-13102a402374",
   "metadata": {},
   "outputs": [],
   "source": []
  }
 ],
 "metadata": {
  "kernelspec": {
   "display_name": "Python 3 (ipykernel)",
   "language": "python",
   "name": "python3"
  },
  "language_info": {
   "codemirror_mode": {
    "name": "ipython",
    "version": 3
   },
   "file_extension": ".py",
   "mimetype": "text/x-python",
   "name": "python",
   "nbconvert_exporter": "python",
   "pygments_lexer": "ipython3",
   "version": "3.11.2"
  }
 },
 "nbformat": 4,
 "nbformat_minor": 5
}
