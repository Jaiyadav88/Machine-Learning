{
 "cells": [
  {
   "cell_type": "code",
   "execution_count": 1,
   "id": "acf57067-9816-4505-ab8e-cf94acaf3d3d",
   "metadata": {},
   "outputs": [
    {
     "name": "stdout",
     "output_type": "stream",
     "text": [
      "do\n"
     ]
    }
   ],
   "source": [
    "import re\n",
    "txt=\"do as i say not as i do\"\n",
    "res=re.search('do',txt)\n",
    "print(res.group())"
   ]
  },
  {
   "cell_type": "code",
   "execution_count": 2,
   "id": "b5237a7d-6b86-4962-a656-46d159e40260",
   "metadata": {},
   "outputs": [
    {
     "data": {
      "text/plain": [
       "['do', 'as', 'i', 'say', 'not', 'as', 'i', 'do']"
      ]
     },
     "execution_count": 2,
     "metadata": {},
     "output_type": "execute_result"
    }
   ],
   "source": [
    "re.split(r'\\s',txt)"
   ]
  },
  {
   "cell_type": "code",
   "execution_count": 3,
   "id": "247edfbd-c0c1-497d-a6aa-3047ff540ea4",
   "metadata": {},
   "outputs": [
    {
     "data": {
      "text/plain": [
       "'do_as_i_say_not_as_i_do'"
      ]
     },
     "execution_count": 3,
     "metadata": {},
     "output_type": "execute_result"
    }
   ],
   "source": [
    "re.sub(r'\\s','_',txt)"
   ]
  },
  {
   "cell_type": "code",
   "execution_count": 4,
   "id": "5487c8e6-c120-43ed-9b24-50bdcf5dba45",
   "metadata": {},
   "outputs": [
    {
     "data": {
      "text/plain": [
       "'do_as_i_say_not_as i do'"
      ]
     },
     "execution_count": 4,
     "metadata": {},
     "output_type": "execute_result"
    }
   ],
   "source": [
    "re.sub(r'\\s','_',txt,5)"
   ]
  },
  {
   "cell_type": "code",
   "execution_count": 5,
   "id": "3d1d6662-9d9b-4c26-ab85-ca742cf4d094",
   "metadata": {},
   "outputs": [
    {
     "data": {
      "text/plain": [
       "'They ate five apples and five oranges'"
      ]
     },
     "execution_count": 5,
     "metadata": {},
     "output_type": "execute_result"
    }
   ],
   "source": [
    "txt=\"They ate 5 apples and 5 oranges\"\n",
    "re.sub(r'5','five',txt)"
   ]
  },
  {
   "cell_type": "code",
   "execution_count": 6,
   "id": "10ae43c4-690b-44c9-a0a6-e119571978f7",
   "metadata": {},
   "outputs": [
    {
     "data": {
      "text/plain": [
       "'They ate five apples and 5 oranges'"
      ]
     },
     "execution_count": 6,
     "metadata": {},
     "output_type": "execute_result"
    }
   ],
   "source": [
    "re.sub(r'5','five',txt,1)"
   ]
  },
  {
   "cell_type": "code",
   "execution_count": 7,
   "id": "b07f5434-c5b8-4add-b2c4-bb05211e26ac",
   "metadata": {},
   "outputs": [
    {
     "name": "stdout",
     "output_type": "stream",
     "text": [
      "goal\n",
      "sit\n"
     ]
    }
   ],
   "source": [
    "items=['goal','new','user','sit','eat','dinner']\n",
    "for i in items:\n",
    "    ans=re.search(r'e',i)\n",
    "    if ans:\n",
    "        pass\n",
    "    else:\n",
    "        print(i)"
   ]
  },
  {
   "cell_type": "code",
   "execution_count": 8,
   "id": "838b4793-4ba1-4e65-b0f1-a689d9616c5e",
   "metadata": {},
   "outputs": [
    {
     "data": {
      "text/plain": [
       "'J'"
      ]
     },
     "execution_count": 8,
     "metadata": {},
     "output_type": "execute_result"
    }
   ],
   "source": [
    "name='Jai'\n",
    "ans=re.search(r'[a-zA-Z]',name)#first occurences\n",
    "ans2=re.search(r'[a-zA-Z]+',name)\n",
    "ans.group()"
   ]
  },
  {
   "cell_type": "code",
   "execution_count": 9,
   "id": "08cea90c-508d-4e46-bccf-c57d0bff3036",
   "metadata": {},
   "outputs": [
    {
     "data": {
      "text/plain": [
       "'Jai'"
      ]
     },
     "execution_count": 9,
     "metadata": {},
     "output_type": "execute_result"
    }
   ],
   "source": [
    "ans2.group()"
   ]
  },
  {
   "cell_type": "code",
   "execution_count": 10,
   "id": "c5a725a5-9d9f-4655-bec6-fe34d213a05d",
   "metadata": {},
   "outputs": [
    {
     "name": "stdout",
     "output_type": "stream",
     "text": [
      "jai\n",
      "john\n",
      "jacob\n"
     ]
    }
   ],
   "source": [
    "name=\"jai,john,jacob,4342&42\"\n",
    "result=re.split(r',',name)\n",
    "for i in result:\n",
    "    if re.search(r'[a-zA-Z]+',i):\n",
    "        print(i)#filtering valid names "
   ]
  },
  {
   "cell_type": "code",
   "execution_count": 11,
   "id": "1ee0dace-681d-4270-9c0a-d15e172a314d",
   "metadata": {},
   "outputs": [
    {
     "name": "stdout",
     "output_type": "stream",
     "text": [
      "123\n",
      "234\n",
      "567\n"
     ]
    }
   ],
   "source": [
    "num=\"1234,123,234,567,4567\"\n",
    "result=re.split(',',num)\n",
    "for i in result:\n",
    "    ans=re.search(r'\\b[0-9]{3}\\b',i)\n",
    "    if ans:\n",
    "        print(i)"
   ]
  },
  {
   "cell_type": "code",
   "execution_count": 12,
   "id": "772e0d3b-6989-412b-8854-cb037022d479",
   "metadata": {},
   "outputs": [
    {
     "name": "stdout",
     "output_type": "stream",
     "text": [
      "GEUCSE\n",
      "GEUAI\n"
     ]
    }
   ],
   "source": [
    "list=['CSE','GEUCSE','AI','GEUAI','ML']\n",
    "for i in list:\n",
    "    res=re.search(r'^[GEU][a-zA-Z]*',i,flags=re.I)#filter value that begins with geu\n",
    "    #flags=re.I ignore cases\n",
    "    if res:\n",
    "        print(res.group())"
   ]
  },
  {
   "cell_type": "code",
   "execution_count": 13,
   "id": "2fef31da-237d-4d3e-9004-6cd450b277c8",
   "metadata": {},
   "outputs": [
    {
     "name": "stdout",
     "output_type": "stream",
     "text": [
      "AI2023\n"
     ]
    }
   ],
   "source": [
    "#value that ends with 2023\n",
    "branch=['cse2023geu','cse','AI','AI2023']\n",
    "for i in branch:\n",
    "    ans=re.search(r'2023$',i)#words ending with 2023\n",
    "    #re.search(r'[a-zA-Z]+2023$',i)\n",
    "    if ans:\n",
    "        print(i)"
   ]
  },
  {
   "cell_type": "code",
   "execution_count": 14,
   "id": "d922b86a-360b-41ae-9e8e-10e55d747852",
   "metadata": {},
   "outputs": [
    {
     "name": "stdout",
     "output_type": "stream",
     "text": [
      "geucse2023\n",
      "geupython2023\n"
     ]
    }
   ],
   "source": [
    "#code to identify the strings starting with geu and ends with 2023\n",
    "list=['geucse2023','202331geu','geupython2023']\n",
    "for i in list:\n",
    "    res=re.search(r'^[geu]+[a-zA-Z]+2023$',i)\n",
    "    if res:\n",
    "        print(i)"
   ]
  },
  {
   "cell_type": "code",
   "execution_count": 15,
   "id": "afd30f08-74fe-43d8-b1ed-d469210c60bc",
   "metadata": {},
   "outputs": [
    {
     "name": "stdout",
     "output_type": "stream",
     "text": [
      "abc\n",
      "12ab\n",
      "123\n"
     ]
    }
   ],
   "source": [
    "#write a regular expression to identify alphanumerics\n",
    "list=['abc','12ab','123']\n",
    "for i in list:\n",
    "    res=re.search(r'[a-zA-Z0-9][a-zA-Z0-9]*',i)#re.search(r'\\w+',i) small w for alpha numeric\n",
    "    if res:\n",
    "        print(res.group())"
   ]
  },
  {
   "cell_type": "code",
   "execution_count": 16,
   "id": "7257c76c-4b49-4bbc-8f76-97fa88a353c5",
   "metadata": {},
   "outputs": [
    {
     "name": "stdout",
     "output_type": "stream",
     "text": [
      "17-10-2023\n"
     ]
    }
   ],
   "source": [
    "#write a regex to match special character\n",
    "#ANS:re.search(r'\\W+',i)\n",
    "#write a regext to filter the date\n",
    "txt='Today is 17-10-2023'\n",
    "txt=re.split(' ',txt)\n",
    "for i in txt:\n",
    "    res=re.search(r'[0-9]{1,2}-[0-9]{1,2}-[0-9]{4}',i)\n",
    "    if res:\n",
    "        print(i)"
   ]
  },
  {
   "cell_type": "code",
   "execution_count": 17,
   "id": "11c13bb4-fe09-4b5d-aae4-d25ca3081137",
   "metadata": {},
   "outputs": [],
   "source": [
    "#for the given input string display all lines not conataining start irrespective of case\n",
    "#write a program to extract email"
   ]
  },
  {
   "cell_type": "code",
   "execution_count": 31,
   "id": "2be94e63-06a9-42a7-941f-bf82f8358879",
   "metadata": {},
   "outputs": [
    {
     "name": "stdout",
     "output_type": "stream",
     "text": [
      "jaiyadav@gmail.com\n"
     ]
    }
   ],
   "source": [
    "txt = 'this is my email jaiyadav@gmail.com'\n",
    "txt = re.split(' ',txt)  # Use split() instead of re.split() since you're splitting on spaces.\n",
    "for i in txt:\n",
    "    ans = re.search(r'\\w+@[a-zA-Z.]+', i)\n",
    "    if ans:\n",
    "        print(ans.group())\n"
   ]
  },
  {
   "cell_type": "code",
   "execution_count": 33,
   "id": "bf55ed80-832b-4470-b759-adb59f6a4c90",
   "metadata": {},
   "outputs": [
    {
     "name": "stdout",
     "output_type": "stream",
     "text": [
      "The brown car and the bred sweater are both brown.\n"
     ]
    }
   ],
   "source": [
    "text = \"The red car and the bred sweater are both red.\"\n",
    "updated_text = re.sub(r'\\bred\\b', 'brown', text)\n",
    "print(updated_text)"
   ]
  },
  {
   "cell_type": "code",
   "execution_count": 2,
   "id": "05b1a4d7-2a5d-47fb-a38e-0379c39ad183",
   "metadata": {},
   "outputs": [
    {
     "name": "stdout",
     "output_type": "stream",
     "text": [
      "['hi42bye', 'nice1423', 'bad42', 'cool_42a', '42fake', '_42_']\n"
     ]
    }
   ],
   "source": [
    "words = ['hi42bye', 'nice1423', 'bad42', 'cool_42a', '42fake', '_42_']\n",
    "filtered_words = [word for word in words if re.search(r'\\b\\w*42\\w*\\b', word)]\n",
    "print(filtered_words)"
   ]
  },
  {
   "cell_type": "code",
   "execution_count": null,
   "id": "2f1c4c43-cc01-4dfc-a821-fcdcc42c3f5c",
   "metadata": {},
   "outputs": [],
   "source": []
  }
 ],
 "metadata": {
  "kernelspec": {
   "display_name": "Python 3 (ipykernel)",
   "language": "python",
   "name": "python3"
  },
  "language_info": {
   "codemirror_mode": {
    "name": "ipython",
    "version": 3
   },
   "file_extension": ".py",
   "mimetype": "text/x-python",
   "name": "python",
   "nbconvert_exporter": "python",
   "pygments_lexer": "ipython3",
   "version": "3.11.2"
  }
 },
 "nbformat": 4,
 "nbformat_minor": 5
}
