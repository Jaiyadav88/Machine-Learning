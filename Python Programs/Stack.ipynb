{
 "cells": [
  {
   "cell_type": "markdown",
   "id": "a36573e5-bed1-4082-964c-b90063de2786",
   "metadata": {},
   "source": [
    "## Stack\n"
   ]
  },
  {
   "cell_type": "code",
   "execution_count": null,
   "id": "a8bb3d27-c7d4-42d8-9f92-403ec418df96",
   "metadata": {},
   "outputs": [
    {
     "name": "stdout",
     "output_type": "stream",
     "text": [
      "1.To insert an element\n",
      "2.To pop an element\n",
      "3.To display the element\n",
      "0 to exit\n"
     ]
    },
    {
     "name": "stdin",
     "output_type": "stream",
     "text": [
      "Enter your choice 1\n"
     ]
    },
    {
     "name": "stdout",
     "output_type": "stream",
     "text": [
      "Enter the element to insert\n"
     ]
    },
    {
     "name": "stdin",
     "output_type": "stream",
     "text": [
      " 10\n"
     ]
    },
    {
     "name": "stdout",
     "output_type": "stream",
     "text": [
      "1.To insert an element\n",
      "2.To pop an element\n",
      "3.To display the element\n",
      "0 to exit\n"
     ]
    },
    {
     "name": "stdin",
     "output_type": "stream",
     "text": [
      "Enter your choice 1\n"
     ]
    },
    {
     "name": "stdout",
     "output_type": "stream",
     "text": [
      "Stack is Overflow\n",
      "1.To insert an element\n",
      "2.To pop an element\n",
      "3.To display the element\n",
      "0 to exit\n"
     ]
    },
    {
     "name": "stdin",
     "output_type": "stream",
     "text": [
      "Enter your choice 2\n"
     ]
    },
    {
     "name": "stdout",
     "output_type": "stream",
     "text": [
      "1.To insert an element\n",
      "2.To pop an element\n",
      "3.To display the element\n",
      "0 to exit\n"
     ]
    },
    {
     "name": "stdin",
     "output_type": "stream",
     "text": [
      "Enter your choice 1\n"
     ]
    },
    {
     "name": "stdout",
     "output_type": "stream",
     "text": [
      "Enter the element to insert\n"
     ]
    },
    {
     "name": "stdin",
     "output_type": "stream",
     "text": [
      " 10\n"
     ]
    },
    {
     "name": "stdout",
     "output_type": "stream",
     "text": [
      "1.To insert an element\n",
      "2.To pop an element\n",
      "3.To display the element\n",
      "0 to exit\n"
     ]
    },
    {
     "name": "stdin",
     "output_type": "stream",
     "text": [
      "Enter your choice 3\n"
     ]
    },
    {
     "name": "stdout",
     "output_type": "stream",
     "text": [
      "10\n",
      "1.To insert an element\n",
      "2.To pop an element\n",
      "3.To display the element\n",
      "0 to exit\n"
     ]
    }
   ],
   "source": [
    "stack=[]\n",
    "size=1\n",
    "def push(stack):\n",
    "    if(len(stack)==size):\n",
    "        print(\"Stack is Overflow\")\n",
    "        return\n",
    "    print(\"Enter the element to insert\")\n",
    "    stack.append(int(input()))\n",
    "def pop(stack):\n",
    "    if(len(stack)==0):\n",
    "        print(\"Underflow\")\n",
    "        return\n",
    "    stack.pop()\n",
    "def display(stack):\n",
    "    if(len(stack)==0):\n",
    "        print('Empty')\n",
    "        return\n",
    "    for i in stack:\n",
    "        print(i)\n",
    "def main():\n",
    "    while(True):\n",
    "      print(\"1.To insert an element\")\n",
    "      print(\"2.To pop an element\")\n",
    "      print(\"3.To display the element\")\n",
    "      print(\"0 to exit\")\n",
    "      ch=int(input(\"Enter your choice\"))\n",
    "      if(ch==1):\n",
    "        push(stack)\n",
    "      elif(ch==2):\n",
    "        pop(stack)\n",
    "      elif(ch==3):\n",
    "        display(stack)\n",
    "      else:\n",
    "          break\n",
    "main()"
   ]
  },
  {
   "cell_type": "markdown",
   "id": "6c33feab-c29d-4df3-9fd2-634a63aa8db3",
   "metadata": {},
   "source": [
    "## Queue"
   ]
  },
  {
   "cell_type": "code",
   "execution_count": null,
   "id": "a4ce4fce-7f68-4fb7-9c13-6e1a689c242b",
   "metadata": {},
   "outputs": [
    {
     "name": "stdout",
     "output_type": "stream",
     "text": [
      "1.To insert an element\n",
      "2.To delete an element\n",
      "3.To display the element\n",
      "0 to exit\n"
     ]
    },
    {
     "name": "stdin",
     "output_type": "stream",
     "text": [
      "Enter your choice 1\n"
     ]
    },
    {
     "name": "stdout",
     "output_type": "stream",
     "text": [
      "Enter the element to insert\n"
     ]
    },
    {
     "name": "stdin",
     "output_type": "stream",
     "text": [
      " 10\n"
     ]
    },
    {
     "name": "stdout",
     "output_type": "stream",
     "text": [
      "1.To insert an element\n",
      "2.To delete an element\n",
      "3.To display the element\n",
      "0 to exit\n"
     ]
    },
    {
     "name": "stdin",
     "output_type": "stream",
     "text": [
      "Enter your choice 1\n"
     ]
    },
    {
     "name": "stdout",
     "output_type": "stream",
     "text": [
      "Enter the element to insert\n"
     ]
    },
    {
     "name": "stdin",
     "output_type": "stream",
     "text": [
      " 20\n"
     ]
    },
    {
     "name": "stdout",
     "output_type": "stream",
     "text": [
      "1.To insert an element\n",
      "2.To delete an element\n",
      "3.To display the element\n",
      "0 to exit\n"
     ]
    },
    {
     "name": "stdin",
     "output_type": "stream",
     "text": [
      "Enter your choice 1\n"
     ]
    },
    {
     "name": "stdout",
     "output_type": "stream",
     "text": [
      "Enter the element to insert\n"
     ]
    },
    {
     "name": "stdin",
     "output_type": "stream",
     "text": [
      " 30\n"
     ]
    },
    {
     "name": "stdout",
     "output_type": "stream",
     "text": [
      "1.To insert an element\n",
      "2.To delete an element\n",
      "3.To display the element\n",
      "0 to exit\n"
     ]
    },
    {
     "name": "stdin",
     "output_type": "stream",
     "text": [
      "Enter your choice 3\n"
     ]
    },
    {
     "name": "stdout",
     "output_type": "stream",
     "text": [
      "[10, 20, 30]\n",
      "1.To insert an element\n",
      "2.To delete an element\n",
      "3.To display the element\n",
      "0 to exit\n"
     ]
    },
    {
     "name": "stdin",
     "output_type": "stream",
     "text": [
      "Enter your choice 2\n"
     ]
    },
    {
     "name": "stdout",
     "output_type": "stream",
     "text": [
      "1.To insert an element\n",
      "2.To delete an element\n",
      "3.To display the element\n",
      "0 to exit\n"
     ]
    },
    {
     "name": "stdin",
     "output_type": "stream",
     "text": [
      "Enter your choice 3\n"
     ]
    },
    {
     "name": "stdout",
     "output_type": "stream",
     "text": [
      "[10, 20]\n",
      "1.To insert an element\n",
      "2.To delete an element\n",
      "3.To display the element\n",
      "0 to exit\n"
     ]
    }
   ],
   "source": [
    "queue=[]\n",
    "size=5\n",
    "def insert(queue):\n",
    "    if(len(queue)==size):\n",
    "        print(\"Overflow\")\n",
    "        return\n",
    "    queue.append(int(input()))\n",
    "\n",
    "def delete(queue):\n",
    "    if(len(queue)==0):\n",
    "        print('Underflow')\n",
    "        return\n",
    "    queue.delete(queue[0])\n",
    "def display(queue):\n",
    "    if(len(queue)==0):\n",
    "        print(\"Undeflow\")\n",
    "        return\n",
    "    print(queue)\n",
    "while(True):\n",
    "    print(\"1.To insert an element\")\n",
    "    print(\"2.To delete an element\")\n",
    "    print(\"3.To display the element\")\n",
    "    print(\"0 to exit\")\n",
    "    ch=int(input(\"Enter your choice\"))\n",
    "    if(ch==1):\n",
    "        push(queue)\n",
    "    elif(ch==2):\n",
    "        pop(queue)\n",
    "    elif(ch==3):\n",
    "        display(queue)\n",
    "    else:\n",
    "        break\n",
    "    \n"
   ]
  },
  {
   "cell_type": "code",
   "execution_count": null,
   "id": "31d2fa49-5a3f-47c8-a432-6a138c190624",
   "metadata": {},
   "outputs": [],
   "source": []
  }
 ],
 "metadata": {
  "kernelspec": {
   "display_name": "Python 3 (ipykernel)",
   "language": "python",
   "name": "python3"
  },
  "language_info": {
   "codemirror_mode": {
    "name": "ipython",
    "version": 3
   },
   "file_extension": ".py",
   "mimetype": "text/x-python",
   "name": "python",
   "nbconvert_exporter": "python",
   "pygments_lexer": "ipython3",
   "version": "3.11.2"
  }
 },
 "nbformat": 4,
 "nbformat_minor": 5
}
