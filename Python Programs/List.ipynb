{
 "cells": [
  {
   "cell_type": "code",
   "execution_count": 10,
   "id": "e914c690",
   "metadata": {},
   "outputs": [
    {
     "name": "stdout",
     "output_type": "stream",
     "text": [
      "\n",
      "Menu:\n",
      "1. Add an element\n",
      "2. Modify an element\n",
      "3. Remove an element\n",
      "4. Display elements\n",
      "5. Exit\n"
     ]
    },
    {
     "name": "stdin",
     "output_type": "stream",
     "text": [
      "Enter your choice: 1\n",
      "Enter the value to be inserted:  10\n"
     ]
    },
    {
     "name": "stdout",
     "output_type": "stream",
     "text": [
      "\n",
      "Menu:\n",
      "1. Add an element\n",
      "2. Modify an element\n",
      "3. Remove an element\n",
      "4. Display elements\n",
      "5. Exit\n"
     ]
    },
    {
     "name": "stdin",
     "output_type": "stream",
     "text": [
      "Enter your choice: 1\n",
      "Enter the value to be inserted:  20\n"
     ]
    },
    {
     "name": "stdout",
     "output_type": "stream",
     "text": [
      "\n",
      "Menu:\n",
      "1. Add an element\n",
      "2. Modify an element\n",
      "3. Remove an element\n",
      "4. Display elements\n",
      "5. Exit\n"
     ]
    },
    {
     "name": "stdin",
     "output_type": "stream",
     "text": [
      "Enter your choice: 1\n",
      "Enter the value to be inserted:  30\n"
     ]
    },
    {
     "name": "stdout",
     "output_type": "stream",
     "text": [
      "\n",
      "Menu:\n",
      "1. Add an element\n",
      "2. Modify an element\n",
      "3. Remove an element\n",
      "4. Display elements\n",
      "5. Exit\n"
     ]
    },
    {
     "name": "stdin",
     "output_type": "stream",
     "text": [
      "Enter your choice: 4\n"
     ]
    },
    {
     "name": "stdout",
     "output_type": "stream",
     "text": [
      "('10', '20', '30')\n",
      "\n",
      "Menu:\n",
      "1. Add an element\n",
      "2. Modify an element\n",
      "3. Remove an element\n",
      "4. Display elements\n",
      "5. Exit\n"
     ]
    },
    {
     "name": "stdin",
     "output_type": "stream",
     "text": [
      "Enter your choice: 2\n",
      "Enter the index of the element to modify:  0\n",
      "Enter the new value:  50\n"
     ]
    },
    {
     "name": "stdout",
     "output_type": "stream",
     "text": [
      "\n",
      "Menu:\n",
      "1. Add an element\n",
      "2. Modify an element\n",
      "3. Remove an element\n",
      "4. Display elements\n",
      "5. Exit\n"
     ]
    },
    {
     "name": "stdin",
     "output_type": "stream",
     "text": [
      "Enter your choice: 4\n"
     ]
    },
    {
     "name": "stdout",
     "output_type": "stream",
     "text": [
      "('50', '20', '30')\n",
      "\n",
      "Menu:\n",
      "1. Add an element\n",
      "2. Modify an element\n",
      "3. Remove an element\n",
      "4. Display elements\n",
      "5. Exit\n"
     ]
    },
    {
     "name": "stdin",
     "output_type": "stream",
     "text": [
      "Enter your choice: 3\n",
      "Enter the element to remove:  20\n"
     ]
    },
    {
     "name": "stdout",
     "output_type": "stream",
     "text": [
      "\n",
      "Menu:\n",
      "1. Add an element\n",
      "2. Modify an element\n",
      "3. Remove an element\n",
      "4. Display elements\n",
      "5. Exit\n"
     ]
    },
    {
     "name": "stdin",
     "output_type": "stream",
     "text": [
      "Enter your choice: 4\n"
     ]
    },
    {
     "name": "stdout",
     "output_type": "stream",
     "text": [
      "('50', '30')\n",
      "\n",
      "Menu:\n",
      "1. Add an element\n",
      "2. Modify an element\n",
      "3. Remove an element\n",
      "4. Display elements\n",
      "5. Exit\n"
     ]
    },
    {
     "name": "stdin",
     "output_type": "stream",
     "text": [
      "Enter your choice: 5\n"
     ]
    }
   ],
   "source": [
    "my_tuple = ()\n",
    "while True:\n",
    "    print(\"\\nMenu:\")\n",
    "    print(\"1. Add an element\")\n",
    "    print(\"2. Modify an element\")\n",
    "    print(\"3. Remove an element\")\n",
    "    print(\"4. Display elements\")\n",
    "    print(\"5. Exit\")\n",
    "    choice = int(input(\"Enter your choice:\"))\n",
    "    if choice == 1:\n",
    "        value = input(\"Enter the value to be inserted: \")\n",
    "        my_tuple = add_element(my_tuple, value)\n",
    "    elif choice == 2:\n",
    "        index = int(input(\"Enter the index of the element to modify: \"))\n",
    "        new_value = input(\"Enter the new value: \")\n",
    "        my_tuple = modify_element(my_tuple, index, new_value)\n",
    "    elif choice == 3:\n",
    "        element = input(\"Enter the element to remove: \")\n",
    "        my_tuple = remove_element(my_tuple, element)\n",
    "    elif choice == 4:\n",
    "        display_elements(my_tuple)\n",
    "    elif choice==5:\n",
    "        break"
   ]
  },
  {
   "cell_type": "code",
   "execution_count": 2,
   "id": "53137fd3-005f-480b-8ed5-0c35e3b8757b",
   "metadata": {},
   "outputs": [],
   "source": [
    "#function to add element in the tuple\n",
    "def add_element(my_tuple, element):\n",
    "    return my_tuple + (element,)"
   ]
  },
  {
   "cell_type": "code",
   "execution_count": 7,
   "id": "ba7e8e89-0e34-41a9-aec0-1ec7bb4e43fd",
   "metadata": {},
   "outputs": [],
   "source": [
    "#function to modify an element in tuple\n",
    "def modify_element(my_tuple, index, new_value):\n",
    "        list1= list(my_tuple)\n",
    "        list1[index] = new_value\n",
    "        return tuple(list1)"
   ]
  },
  {
   "cell_type": "code",
   "execution_count": 8,
   "id": "cbc79828-3c0a-47af-bccc-106942197d68",
   "metadata": {},
   "outputs": [],
   "source": [
    "# function to remove a element from a tuple\n",
    "def remove_element(my_tuple, element):\n",
    "    if element in my_tuple:\n",
    "        list1 = list(my_tuple)\n",
    "        list1.remove(element)\n",
    "        return tuple(list1)"
   ]
  },
  {
   "cell_type": "code",
   "execution_count": 9,
   "id": "0bb18949-533e-4919-bbf6-c75edca507fa",
   "metadata": {},
   "outputs": [],
   "source": [
    "# Function to display the tuple\n",
    "def display_elements(my_tuple):\n",
    "   print(my_tuple)"
   ]
  },
  {
   "cell_type": "code",
   "execution_count": null,
   "id": "3479d0a4-1be7-41dd-952c-3472df01d198",
   "metadata": {},
   "outputs": [],
   "source": []
  }
 ],
 "metadata": {
  "kernelspec": {
   "display_name": "Python 3 (ipykernel)",
   "language": "python",
   "name": "python3"
  },
  "language_info": {
   "codemirror_mode": {
    "name": "ipython",
    "version": 3
   },
   "file_extension": ".py",
   "mimetype": "text/x-python",
   "name": "python",
   "nbconvert_exporter": "python",
   "pygments_lexer": "ipython3",
   "version": "3.11.2"
  }
 },
 "nbformat": 4,
 "nbformat_minor": 5
}
