{
 "cells": [
  {
   "cell_type": "code",
   "execution_count": null,
   "id": "a9e31ee2-7205-40c0-b934-68914b37286c",
   "metadata": {},
   "outputs": [
    {
     "name": "stdin",
     "output_type": "stream",
     "text": [
      "Enter the size 1\n"
     ]
    },
    {
     "name": "stdout",
     "output_type": "stream",
     "text": [
      "1.Enqueue\n",
      "2.Dequeue\n",
      "3.front\n",
      "4.rear\n",
      "5.display\n"
     ]
    },
    {
     "name": "stdin",
     "output_type": "stream",
     "text": [
      "Enter your choice 1\n",
      "Enter the element 10\n"
     ]
    },
    {
     "name": "stdout",
     "output_type": "stream",
     "text": [
      "1.Enqueue\n",
      "2.Dequeue\n",
      "3.front\n",
      "4.rear\n",
      "5.display\n"
     ]
    },
    {
     "name": "stdin",
     "output_type": "stream",
     "text": [
      "Enter your choice 1\n",
      "Enter the element 10\n"
     ]
    },
    {
     "name": "stdout",
     "output_type": "stream",
     "text": [
      "Full\n",
      "1.Enqueue\n",
      "2.Dequeue\n",
      "3.front\n",
      "4.rear\n",
      "5.display\n"
     ]
    },
    {
     "name": "stdin",
     "output_type": "stream",
     "text": [
      "Enter your choice 5\n"
     ]
    },
    {
     "name": "stdout",
     "output_type": "stream",
     "text": [
      "10 \n",
      "\n",
      "1.Enqueue\n",
      "2.Dequeue\n",
      "3.front\n",
      "4.rear\n",
      "5.display\n"
     ]
    },
    {
     "name": "stdin",
     "output_type": "stream",
     "text": [
      "Enter your choice 3\n"
     ]
    },
    {
     "name": "stdout",
     "output_type": "stream",
     "text": [
      "10\n",
      "1.Enqueue\n",
      "2.Dequeue\n",
      "3.front\n",
      "4.rear\n",
      "5.display\n"
     ]
    },
    {
     "name": "stdin",
     "output_type": "stream",
     "text": [
      "Enter your choice 4\n"
     ]
    },
    {
     "name": "stdout",
     "output_type": "stream",
     "text": [
      "10\n",
      "1.Enqueue\n",
      "2.Dequeue\n",
      "3.front\n",
      "4.rear\n",
      "5.display\n"
     ]
    },
    {
     "name": "stdin",
     "output_type": "stream",
     "text": [
      "Enter your choice 2\n"
     ]
    },
    {
     "name": "stdout",
     "output_type": "stream",
     "text": [
      "1.Enqueue\n",
      "2.Dequeue\n",
      "3.front\n",
      "4.rear\n",
      "5.display\n"
     ]
    },
    {
     "name": "stdin",
     "output_type": "stream",
     "text": [
      "Enter your choice 5\n"
     ]
    },
    {
     "name": "stdout",
     "output_type": "stream",
     "text": [
      "\n",
      "\n",
      "1.Enqueue\n",
      "2.Dequeue\n",
      "3.front\n",
      "4.rear\n",
      "5.display\n"
     ]
    },
    {
     "name": "stdin",
     "output_type": "stream",
     "text": [
      "Enter your choice 1\n",
      "Enter the element 10\n"
     ]
    },
    {
     "name": "stdout",
     "output_type": "stream",
     "text": [
      "1.Enqueue\n",
      "2.Dequeue\n",
      "3.front\n",
      "4.rear\n",
      "5.display\n"
     ]
    }
   ],
   "source": [
    "## QUEUE ##\n",
    "list=[]\n",
    "size=int(input('Enter the size'))\n",
    "def enqueue(ele,list):\n",
    "    if(len(list)==size):\n",
    "        print('Full')\n",
    "        return\n",
    "    list.append(ele)\n",
    "def dequeue(list):\n",
    "    if(len(list)==0):\n",
    "        print('Empty')\n",
    "        return\n",
    "    list.pop(0)\n",
    "def front(list):\n",
    "    if(len(list)==0):\n",
    "        print('Empty')\n",
    "        return\n",
    "    print(list[-1])\n",
    "def rear(list):\n",
    "    if(len(list)==0):\n",
    "        print('Empty')\n",
    "        return\n",
    "    print(list[0])\n",
    "def display(list):\n",
    "    for i in list:\n",
    "        print(i,end=\" \")\n",
    "    print('\\n')\n",
    "def main():\n",
    "     while(True):\n",
    "      print(\"1.Enqueue\")\n",
    "      print(\"2.Dequeue\")\n",
    "      print(\"3.front\")\n",
    "      print(\"4.rear\")\n",
    "      print('5.display')\n",
    "      ch=int(input(\"Enter your choice\"))\n",
    "      if(ch==1):\n",
    "        ele=int(input(\"Enter the element\"))\n",
    "        enqueue(ele,list)\n",
    "      elif(ch==2):\n",
    "        dequeue(list)\n",
    "      elif(ch==3):\n",
    "        front(list)\n",
    "      elif ch==4:\n",
    "          rear(list)\n",
    "      elif ch==5:\n",
    "          display(list)\n",
    "      else:\n",
    "          break\n",
    "if __name__==\"__main__\":\n",
    "    main()\n",
    "    \n",
    "    \n"
   ]
  },
  {
   "cell_type": "code",
   "execution_count": null,
   "id": "f5b561f7-5b6d-49ea-98f3-de4d0bb72d58",
   "metadata": {},
   "outputs": [],
   "source": []
  }
 ],
 "metadata": {
  "kernelspec": {
   "display_name": "Python 3 (ipykernel)",
   "language": "python",
   "name": "python3"
  },
  "language_info": {
   "codemirror_mode": {
    "name": "ipython",
    "version": 3
   },
   "file_extension": ".py",
   "mimetype": "text/x-python",
   "name": "python",
   "nbconvert_exporter": "python",
   "pygments_lexer": "ipython3",
   "version": "3.11.2"
  }
 },
 "nbformat": 4,
 "nbformat_minor": 5
}
