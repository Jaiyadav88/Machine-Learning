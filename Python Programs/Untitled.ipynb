{
 "cells": [
  {
   "cell_type": "code",
   "execution_count": 3,
   "id": "4f302d2f-4ec7-491c-8bd7-13fca5cf1dd9",
   "metadata": {},
   "outputs": [
    {
     "name": "stdin",
     "output_type": "stream",
     "text": [
      "Enter file name file.txt\n"
     ]
    },
    {
     "name": "stdout",
     "output_type": "stream",
     "text": [
      "[' 0.8475\\n', ' 0.6178\\n', ' 0.6961\\n', ' 0.7565\\n', ' 0.7626\\n', ' 0.7556\\n', ' 0.7002\\n', ' 0.7615\\n', ' 0.7601\\n', ' 0.7605\\n', ' 0.6959\\n', ' 0.7606\\n', ' 0.7559\\n', ' 0.7605\\n', ' 0.6932\\n', ' 0.7558\\n', ' 0.6526\\n', ' 0.6948\\n', ' 0.6528\\n', ' 0.7002\\n', ' 0.7554\\n', ' 0.6956\\n', ' 0.6959\\n', ' 0.7556\\n', ' 0.9846\\n', ' 0.8509\\n', ' 0.9907\\n']\n"
     ]
    }
   ],
   "source": [
    "def main():\n",
    "    l1=[]\n",
    "    count=0\n",
    "    inp=input(\"Enter file name\")\n",
    "    fhand=open(\"C:\\\\Users\\\\JAI\\\\Downloads\\\\file.txt\")\n",
    "    for line in fhand:\n",
    "        if line.startswith(\"X-DSPAM-Confidence\"):\n",
    "            pos=line.find(':')\n",
    "            value=line[pos+2:]\n",
    "            l1.append(value)\n",
    "            count+=1\n",
    "            #print(line)\n",
    "    l1.split('\\n')\n",
    "    \n",
    "main()"
   ]
  },
  {
   "cell_type": "code",
   "execution_count": null,
   "id": "8d6c187f-c679-4590-83a4-3b87d2c43df4",
   "metadata": {},
   "outputs": [],
   "source": [
    "#write a program to accept domain name from the given text file"
   ]
  },
  {
   "cell_type": "code",
   "execution_count": null,
   "id": "fa44a1bb-31f5-4ad1-b069-94083ba3276b",
   "metadata": {},
   "outputs": [],
   "source": []
  }
 ],
 "metadata": {
  "kernelspec": {
   "display_name": "Python 3 (ipykernel)",
   "language": "python",
   "name": "python3"
  },
  "language_info": {
   "codemirror_mode": {
    "name": "ipython",
    "version": 3
   },
   "file_extension": ".py",
   "mimetype": "text/x-python",
   "name": "python",
   "nbconvert_exporter": "python",
   "pygments_lexer": "ipython3",
   "version": "3.11.2"
  }
 },
 "nbformat": 4,
 "nbformat_minor": 5
}
