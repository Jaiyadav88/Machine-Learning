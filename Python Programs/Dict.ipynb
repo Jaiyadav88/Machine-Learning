{
 "cells": [
  {
   "cell_type": "markdown",
   "id": "e5406a89-8bcb-4f99-9c16-9df2afbb4c63",
   "metadata": {},
   "source": [
    "## Dictionaries"
   ]
  },
  {
   "cell_type": "code",
   "execution_count": 1,
   "id": "284ac49c-d4c7-4d45-830b-47243de08d0c",
   "metadata": {},
   "outputs": [
    {
     "name": "stdout",
     "output_type": "stream",
     "text": [
      "i5 14th gen 1240H\n"
     ]
    }
   ],
   "source": [
    "dict={'Name':'Acer','Year':2020,'Year':2022,'processor':'i5 14th gen 1240H'}\n",
    "print(dict['processor'])"
   ]
  },
  {
   "cell_type": "code",
   "execution_count": 2,
   "id": "59c3adc8-6252-4a56-9c5b-a4d0d35f7417",
   "metadata": {},
   "outputs": [
    {
     "name": "stdout",
     "output_type": "stream",
     "text": [
      "{'Name': 'Jai', 'salary': 2500, 'Company': 'Google'}\n"
     ]
    }
   ],
   "source": [
    "dict={\n",
    "    'Name':\"Jai\",\n",
    "    'salary':2500,\n",
    "    'Company':\"Google\"\n",
    "}\n",
    "print(dict)"
   ]
  },
  {
   "cell_type": "code",
   "execution_count": 3,
   "id": "897f0e1a-c79a-41f1-8e59-457151271384",
   "metadata": {},
   "outputs": [
    {
     "data": {
      "text/plain": [
       "'Jai'"
      ]
     },
     "execution_count": 3,
     "metadata": {},
     "output_type": "execute_result"
    }
   ],
   "source": [
    "#way to access the values\n",
    "dict.get('Name')"
   ]
  },
  {
   "cell_type": "code",
   "execution_count": 4,
   "id": "e548745e-04c8-4c51-9b9a-8b7661829601",
   "metadata": {},
   "outputs": [
    {
     "data": {
      "text/plain": [
       "dict_keys(['Name', 'salary', 'Company'])"
      ]
     },
     "execution_count": 4,
     "metadata": {},
     "output_type": "execute_result"
    }
   ],
   "source": [
    "#way to access keys\n",
    "dict.keys()"
   ]
  },
  {
   "cell_type": "code",
   "execution_count": 5,
   "id": "e6e14e1f-339a-49c8-bd7b-de0df95906fc",
   "metadata": {},
   "outputs": [
    {
     "data": {
      "text/plain": [
       "dict_values(['Jai', 2500, 'Google'])"
      ]
     },
     "execution_count": 5,
     "metadata": {},
     "output_type": "execute_result"
    }
   ],
   "source": [
    "#way to access all values\n",
    "dict.values()"
   ]
  },
  {
   "cell_type": "code",
   "execution_count": 6,
   "id": "9018b4f0-a3ac-4ed0-aebc-88b2ff91d446",
   "metadata": {},
   "outputs": [
    {
     "data": {
      "text/plain": [
       "{'Name': 'DELL', 'salary': 2500, 'Company': 'Google'}"
      ]
     },
     "execution_count": 6,
     "metadata": {},
     "output_type": "execute_result"
    }
   ],
   "source": [
    "#updating values of dictionary\n",
    "dict['Name']=\"DELL\"\n",
    "dict"
   ]
  },
  {
   "cell_type": "code",
   "execution_count": 7,
   "id": "32d93923-9c2f-47de-b452-d37f24b169c7",
   "metadata": {},
   "outputs": [
    {
     "data": {
      "text/plain": [
       "{'Name': 'John', 'salary': 2500, 'Company': 'Google'}"
      ]
     },
     "execution_count": 7,
     "metadata": {},
     "output_type": "execute_result"
    }
   ],
   "source": [
    "#another method to update values of dictionary\n",
    "dict.update({'Name':\"John\"})\n",
    "dict"
   ]
  },
  {
   "cell_type": "code",
   "execution_count": 8,
   "id": "24127add-fe9d-45b8-94e4-7243add6b511",
   "metadata": {},
   "outputs": [
    {
     "data": {
      "text/plain": [
       "{'Name': 'John', 'salary': 2500, 'Company': 'Google', 'EmpID': '220211071'}"
      ]
     },
     "execution_count": 8,
     "metadata": {},
     "output_type": "execute_result"
    }
   ],
   "source": [
    "#adding new values\n",
    "dict['EmpID']='220211071'\n",
    "dict"
   ]
  },
  {
   "cell_type": "code",
   "execution_count": 9,
   "id": "82778b97-03d9-443b-a2df-70c06b489a3a",
   "metadata": {},
   "outputs": [
    {
     "data": {
      "text/plain": [
       "'220211071'"
      ]
     },
     "execution_count": 9,
     "metadata": {},
     "output_type": "execute_result"
    }
   ],
   "source": [
    "#ways to remove the items from the dictionary\n",
    "dict.pop('EmpID')"
   ]
  },
  {
   "cell_type": "code",
   "execution_count": 10,
   "id": "bf1bdf5c-9829-4d52-8e3e-8e953bc56af1",
   "metadata": {},
   "outputs": [
    {
     "data": {
      "text/plain": [
       "{'salary': 2500, 'Company': 'Google'}"
      ]
     },
     "execution_count": 10,
     "metadata": {},
     "output_type": "execute_result"
    }
   ],
   "source": [
    "#del keyword to delete key value pair\n",
    "del(dict['Name'])\n",
    "dict"
   ]
  },
  {
   "cell_type": "code",
   "execution_count": 14,
   "id": "03648c52-7095-4752-89cc-99e44c3282b0",
   "metadata": {},
   "outputs": [
    {
     "name": "stdout",
     "output_type": "stream",
     "text": [
      "salary\n",
      "Company\n"
     ]
    }
   ],
   "source": [
    "#printing only keys\n",
    "for x in dict:\n",
    "    print(x)"
   ]
  },
  {
   "cell_type": "code",
   "execution_count": 15,
   "id": "072a8ad6-0a65-42d6-9191-06a389f1ee1b",
   "metadata": {},
   "outputs": [
    {
     "name": "stdout",
     "output_type": "stream",
     "text": [
      "2500\n",
      "Google\n"
     ]
    }
   ],
   "source": [
    "#printing values of dict\n",
    "for x in  dict:\n",
    "    print(dict[x])"
   ]
  },
  {
   "cell_type": "code",
   "execution_count": 16,
   "id": "c58a1c16-e8de-49b0-a47e-038a1556c707",
   "metadata": {},
   "outputs": [
    {
     "data": {
      "text/plain": [
       "{}"
      ]
     },
     "execution_count": 16,
     "metadata": {},
     "output_type": "execute_result"
    }
   ],
   "source": [
    "dict.clear()\n",
    "dict"
   ]
  },
  {
   "cell_type": "code",
   "execution_count": null,
   "id": "88595992-1558-429a-b0bf-a4857cc5ae94",
   "metadata": {},
   "outputs": [],
   "source": []
  }
 ],
 "metadata": {
  "kernelspec": {
   "display_name": "Python 3 (ipykernel)",
   "language": "python",
   "name": "python3"
  },
  "language_info": {
   "codemirror_mode": {
    "name": "ipython",
    "version": 3
   },
   "file_extension": ".py",
   "mimetype": "text/x-python",
   "name": "python",
   "nbconvert_exporter": "python",
   "pygments_lexer": "ipython3",
   "version": "3.11.2"
  }
 },
 "nbformat": 4,
 "nbformat_minor": 5
}
